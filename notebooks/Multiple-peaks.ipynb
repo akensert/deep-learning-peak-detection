{
 "cells": [
  {
   "cell_type": "code",
   "execution_count": 1,
   "metadata": {},
   "outputs": [],
   "source": [
    "import numpy as np\n",
    "import tensorflow as tf\n",
    "import matplotlib.pyplot as plt\n",
    "import tensorflow_addons as tfa \n",
    "from tqdm.notebook import tqdm\n",
    "import multiprocessing\n",
    "\n",
    "physical_devices = tf.config.list_physical_devices('GPU')\n",
    "tf.config.experimental.set_memory_growth(physical_devices[0], True)\n",
    "np.set_printoptions(suppress=True)"
   ]
  },
  {
   "cell_type": "code",
   "execution_count": 2,
   "metadata": {},
   "outputs": [],
   "source": [
    "def compute_gaussian_peak(x, A, loc, scale, asymmetry=None, eps=1e-7):\n",
    "    if asymmetry is None:\n",
    "        return A * np.exp((-(x - loc)**2) / (2 * scale**2))\n",
    "    return A * np.exp(-1/2*((x - loc)/(eps + scale + asymmetry * (x - loc)))**2)\n",
    "\n",
    "def apply_white_noise(x, A, snr, random_seed):\n",
    "    np.random.seed(random_seed)\n",
    "    stddev = A.mean() / snr / 4 # approximately noise levels that match snr\n",
    "    noise = np.random.normal(0, stddev, len(x))\n",
    "    return x + noise\n",
    "\n",
    "def apply_pink_noise(x, A, snr, num_sources, random_seed):\n",
    "    np.random.seed(random_seed)\n",
    "    nrows = len(x)\n",
    "    ncols = num_sources\n",
    "\n",
    "    noise = np.full((nrows, ncols), np.nan)\n",
    "    noise[0, :] = np.random.random(ncols)\n",
    "    noise[:, 0] = np.random.random(nrows)\n",
    "\n",
    "    cols = np.random.geometric(0.5, nrows)\n",
    "    cols[cols >= ncols] = 0\n",
    "    rows = np.random.randint(nrows, size=nrows)\n",
    "    noise[rows, cols] = np.random.random(nrows)\n",
    "\n",
    "    noise = pd.DataFrame(noise)\n",
    "    noise.fillna(method='ffill', axis=0, inplace=True)\n",
    "    noise = noise.sum(axis=1).to_numpy()\n",
    "    noise = (noise - noise.mean())\n",
    "    noise = (A.mean()/snr) * noise / 2 # approximately noise levels that match snr\n",
    "    return noise + x\n",
    "\n",
    "def apply_drift(x, resolution, random_seed):\n",
    "    np.random.seed(random_seed)\n",
    "    def sigmoidal(y, m, w, b):\n",
    "        return 1 / (1 + np.exp( - (y * w + b) )) * m\n",
    "    y = np.linspace(-1, 1, resolution)\n",
    "    drift = np.zeros(resolution, dtype='float32')\n",
    "    n = 10\n",
    "    for _ in range(n):\n",
    "        h = np.random.uniform(-500, 500)  \n",
    "        w = np.random.uniform(-20, 20)\n",
    "        b = np.random.uniform(-20, 20)\n",
    "        drift += sigmoidal(y, h, w, b) / n\n",
    "    return x + drift"
   ]
  },
  {
   "cell_type": "code",
   "execution_count": 3,
   "metadata": {},
   "outputs": [],
   "source": [
    "\n",
    "class Simulator:\n",
    "\n",
    "    def __init__(self,\n",
    "                 resolution,\n",
    "                 num_peaks_range,\n",
    "                 snr_range,\n",
    "                 A_range,\n",
    "                 loc_range,\n",
    "                 scale_range,\n",
    "                 asymmetry_range,\n",
    "                 pink_noise_prob):\n",
    "\n",
    "        self.x = np.linspace(0, 1, resolution)\n",
    "        self.resolution = resolution\n",
    "        self.num_peaks_range = num_peaks_range\n",
    "        self.snr_range = snr_range\n",
    "        self.A_range = A_range\n",
    "        self.loc_range = loc_range\n",
    "        self.scale_range = scale_range\n",
    "        self.asymmetry_range = asymmetry_range\n",
    "        self.pink_noise_prob = pink_noise_prob\n",
    "\n",
    "    def run(self, random_seed):\n",
    "\n",
    "        np.random.seed(random_seed)\n",
    "        \n",
    "        # Randomly obtain parameters of the peaks\n",
    "        self.num_peaks = np.random.randint(*self.num_peaks_range)\n",
    "        self.A = np.random.uniform(*self.A_range, size=(self.num_peaks,))\n",
    "        self.loc = np.random.uniform(*self.loc_range, size=(self.num_peaks,))\n",
    "        self.scale = np.random.uniform(*self.scale_range, size=(self.num_peaks,))\n",
    "        \n",
    "        # Obtain asymmetry if not None (i.e. peak fronting/tailing)\n",
    "        if self.asymmetry_range is not None:\n",
    "            self.asymmetry = np.random.uniform(*self.asymmetry_range, size=(self.num_peaks,))\n",
    "        else:\n",
    "            self.asymmetry = [None]*self.num_peaks\n",
    "        \n",
    "        # Generate (noise-free) chromatogram\n",
    "        chromatogram = np.zeros_like(self.x)\n",
    "        for a, m, s, t in zip(self.A, self.loc, self.scale, self.asymmetry):\n",
    "            chromatogram += compute_gaussian_peak(self.x, a, m, s, t)\n",
    "        \n",
    "        # Obtain random signal-to-noise ratio (SNR)\n",
    "        self.snr = np.random.uniform(*self.snr_range)\n",
    "        \n",
    "        # Apply pink noise or white noise\n",
    "        if self.pink_noise_prob > np.random.random():\n",
    "            chromatogram_noisy = apply_pink_noise(\n",
    "                chromatogram, self.A, self.snr, 6, random_seed)\n",
    "        else:\n",
    "            chromatogram_noisy = apply_white_noise(\n",
    "                chromatogram, self.A, self.snr, random_seed)\n",
    "        \n",
    "        # Apply baseline drift\n",
    "        chromatogram_noisy_drift = apply_drift(\n",
    "            chromatogram_noisy, self.resolution, random_seed)\n",
    "\n",
    "        return (\n",
    "            chromatogram_noisy_drift[:, None],\n",
    "            self.loc,\n",
    "            self.scale,\n",
    "            self.A\n",
    "        )\n",
    "    \n",
    "simulator = Simulator(\n",
    "    resolution=8192,\n",
    "    num_peaks_range=(1, 100),\n",
    "    snr_range=(1.0, 20.0),\n",
    "    A_range=(25, 250),\n",
    "    loc_range=(0.05, 0.95),\n",
    "    scale_range=(0.001, 0.003),\n",
    "    asymmetry_range=(-0.1, 0.1),\n",
    "    pink_noise_prob=0.0,\n",
    ")"
   ]
  },
  {
   "cell_type": "code",
   "execution_count": 4,
   "metadata": {},
   "outputs": [],
   "source": [
    "class LabelEncoder:\n",
    "    \n",
    "    def __init__(self, num_windows, num_classes=4):\n",
    "        self.num_windows = num_windows\n",
    "        self.window_size = 1 / self.num_windows\n",
    "        self.window_borders = np.linspace(0, 1, self.num_windows+1)\n",
    "        self.window_centers = self.window_borders[1:] - self.window_size / 2\n",
    "        self.num_classes = num_classes\n",
    "        \n",
    "    def encode(self, locs, scales, amplitudes):\n",
    "        labels = np.zeros((self.num_windows, self.num_classes))\n",
    "        for loc, scale, amplitude in zip(locs, scales, amplitudes):\n",
    "            \n",
    "            # Obtain location in window (local scale)\n",
    "            distance = loc - self.window_centers\n",
    "            index = np.argmin(np.abs(distance))\n",
    "            loc = 0.5 + distance[index] / self.window_size\n",
    "            # Obtain width in window (local scale)\n",
    "            width = (scale * 4) / self.window_size # the width is defined as four stddevs\n",
    "            \n",
    "            # Add prob (= 1), loc, width and amplitude to labels\n",
    "            labels[index, 0] = 1.\n",
    "            labels[index, 1] = loc\n",
    "            labels[index, 2] = width\n",
    "            labels[index, 3] = amplitude\n",
    "        \n",
    "        return labels\n",
    "            \n",
    "    def decode(self, predictions, threshold=0.5):\n",
    "        \n",
    "        # Unpack predictions: (N, num_classes) -> (N,) * num_classes\n",
    "        probs, locs, widths, amplitudes = [\n",
    "            split[:, 0] for split in np.split(predictions, self.num_classes, axis=-1)\n",
    "        ]\n",
    "        # Where probability of peak is above threshold, obtain indices\n",
    "        indices = np.where(probs > threshold)[0]\n",
    "\n",
    "        # Transform locs and widths to global scale\n",
    "        locs = locs[indices] * self.window_size + self.window_borders[indices]\n",
    "        widths = widths[indices] * self.window_size\n",
    "        \n",
    "        return probs[indices], locs, widths, amplitudes[indices]\n",
    "\n",
    "encoder = LabelEncoder(256)\n"
   ]
  },
  {
   "cell_type": "code",
   "execution_count": 5,
   "metadata": {},
   "outputs": [
    {
     "data": {
      "application/vnd.jupyter.widget-view+json": {
       "model_id": "912888b65dd9464c81d5c414d4acf0ba",
       "version_major": 2,
       "version_minor": 0
      },
      "text/plain": [
       "HBox(children=(FloatProgress(value=0.0, max=30000.0), HTML(value='')))"
      ]
     },
     "metadata": {},
     "output_type": "display_data"
    },
    {
     "name": "stdout",
     "output_type": "stream",
     "text": [
      "\n"
     ]
    }
   ],
   "source": [
    "\n",
    "def generate_example(i):\n",
    "    \n",
    "    chromatogram, locs, scales, amplitudes = simulator.run(i)\n",
    "    return chromatogram, encoder.encode(locs, scales, amplitudes)\n",
    "\n",
    "with multiprocessing.Pool() as pool:\n",
    "    examples = [i for i in tqdm(pool.imap(generate_example, range(30_000)), total=30_000)]\n",
    "    \n",
    "x = np.stack([example[0] for example in examples], axis=0)\n",
    "y = np.stack([example[1] for example in examples], axis=0)\n",
    "\n",
    "\n",
    "x_train, y_train = x[:28000], y[:28000]\n",
    "x_validation, y_validation = x[28000:29000], y[28000:29000]\n",
    "x_test, y_test = x[29000:], y[29000:]\n",
    "t = np.linspace(0, 1, 8192)\n"
   ]
  },
  {
   "cell_type": "code",
   "execution_count": 7,
   "metadata": {},
   "outputs": [],
   "source": [
    "\n",
    "class MixedLoss(tf.keras.losses.Loss):\n",
    "    \n",
    "    def __init__(\n",
    "        self, \n",
    "        weight_prob=1.0, \n",
    "        weight_loc=1.0, \n",
    "        weight_width=1.0, \n",
    "        weight_amplitude=1.0, \n",
    "        **kwargs\n",
    "    ):\n",
    "        super().__init__(**kwargs)\n",
    "        \n",
    "        self.weight_prob = weight_prob\n",
    "        self.weight_loc = weight_loc\n",
    "        self.weight_width = weight_width\n",
    "        self.weight_amplitude = weight_amplitude\n",
    "\n",
    "    def call(self, y_true, y_pred, sample_weight=None):\n",
    "        \n",
    "        # Cast to dtype float32 just in case\n",
    "        y_true = tf.cast(y_true, tf.float32)\n",
    "        y_pred = tf.cast(y_pred, tf.float32)\n",
    "        \n",
    "        # Unpack trues and preds\n",
    "        pred_prob, pred_loc, pred_width, pred_amplitude = tf.split(y_pred, 4, axis=-1)\n",
    "        true_prob, true_loc, true_width, true_amplitude = tf.split(y_true, 4, axis=-1)\n",
    "\n",
    "        # Mask for where y_true is indicating a peak\n",
    "        mask = tf.math.equal(true_prob, 1.)\n",
    "        \n",
    "        # Compute loss for all instances\n",
    "        bce_loss_1 = tf.keras.losses.BinaryCrossentropy()(true_prob, pred_prob)\n",
    "        # Compute loss only for instances in mask\n",
    "        bce_loss_2 = tf.keras.losses.BinaryCrossentropy()(\n",
    "            tf.boolean_mask(true_loc, mask), tf.boolean_mask(pred_loc, mask))\n",
    "        # Compute loss only for instances in mask\n",
    "        huber_loss_1 = tf.keras.losses.Huber()(\n",
    "            tf.boolean_mask(true_width, mask), tf.boolean_mask(pred_width, mask))\n",
    "        \n",
    "        huber_loss_2 = tf.keras.losses.Huber()(\n",
    "            tf.boolean_mask(true_amplitude, mask), tf.boolean_mask(pred_amplitude, mask))\n",
    "        \n",
    "        return (\n",
    "            bce_loss_1 * self.weight_prob + \n",
    "            bce_loss_2 * self.weight_loc + \n",
    "            huber_loss_1 * self.weight_width +\n",
    "            huber_loss_2 * self.weight_amplitude\n",
    "        )\n",
    "\n",
    "\n",
    "class SelectiveActivation(tf.keras.layers.Layer):\n",
    "    \n",
    "    def __init__(self, input_dim, **kwargs):\n",
    "        super().__init__(**kwargs)\n",
    "        self.input_dim = input_dim\n",
    "    \n",
    "    def call(self, inputs):\n",
    "        pred, loc, scale, amplitude = tf.split(inputs, self.input_dim, axis=-1)\n",
    "        pred = tf.nn.sigmoid(pred)\n",
    "        loc = tf.nn.sigmoid(loc)\n",
    "        return tf.concat([pred, loc, scale, amplitude], axis=-1)\n",
    "    "
   ]
  },
  {
   "cell_type": "code",
   "execution_count": 8,
   "metadata": {
    "scrolled": true
   },
   "outputs": [
    {
     "name": "stdout",
     "output_type": "stream",
     "text": [
      "Epoch 1/10\n",
      "875/875 [==============================] - 44s 46ms/step - loss: 21.9686\n",
      "Epoch 2/10\n",
      "875/875 [==============================] - 41s 47ms/step - loss: 0.8726\n",
      "Epoch 3/10\n",
      "875/875 [==============================] - 43s 49ms/step - loss: 0.8407\n",
      "Epoch 4/10\n",
      "875/875 [==============================] - 43s 49ms/step - loss: 0.8280\n",
      "Epoch 5/10\n",
      "875/875 [==============================] - 43s 49ms/step - loss: 0.8226\n",
      "Epoch 6/10\n",
      "875/875 [==============================] - 44s 50ms/step - loss: 0.8201\n",
      "Epoch 7/10\n",
      "177/875 [=====>........................] - ETA: 34s - loss: 0.8188"
     ]
    },
    {
     "ename": "KeyboardInterrupt",
     "evalue": "",
     "output_type": "error",
     "traceback": [
      "\u001b[0;31m---------------------------------------------------------------------------\u001b[0m",
      "\u001b[0;31mKeyboardInterrupt\u001b[0m                         Traceback (most recent call last)",
      "\u001b[0;32m<ipython-input-8-00e770aca447>\u001b[0m in \u001b[0;36m<module>\u001b[0;34m\u001b[0m\n\u001b[1;32m     30\u001b[0m \u001b[0mmodel\u001b[0m \u001b[0;34m=\u001b[0m \u001b[0mget_model\u001b[0m\u001b[0;34m(\u001b[0m\u001b[0;34m)\u001b[0m\u001b[0;34m\u001b[0m\u001b[0;34m\u001b[0m\u001b[0m\n\u001b[1;32m     31\u001b[0m \u001b[0mmodel\u001b[0m\u001b[0;34m.\u001b[0m\u001b[0mcompile\u001b[0m\u001b[0;34m(\u001b[0m\u001b[0mloss\u001b[0m\u001b[0;34m=\u001b[0m\u001b[0mMixedLoss\u001b[0m\u001b[0;34m(\u001b[0m\u001b[0;36m1.0\u001b[0m\u001b[0;34m,\u001b[0m \u001b[0;36m1.0\u001b[0m\u001b[0;34m,\u001b[0m \u001b[0;36m1.0\u001b[0m\u001b[0;34m,\u001b[0m \u001b[0;36m1.0\u001b[0m\u001b[0;34m)\u001b[0m\u001b[0;34m,\u001b[0m \u001b[0moptimizer\u001b[0m\u001b[0;34m=\u001b[0m\u001b[0mtf\u001b[0m\u001b[0;34m.\u001b[0m\u001b[0mkeras\u001b[0m\u001b[0;34m.\u001b[0m\u001b[0moptimizers\u001b[0m\u001b[0;34m.\u001b[0m\u001b[0mAdam\u001b[0m\u001b[0;34m(\u001b[0m\u001b[0;36m1e-3\u001b[0m\u001b[0;34m)\u001b[0m\u001b[0;34m)\u001b[0m\u001b[0;34m\u001b[0m\u001b[0;34m\u001b[0m\u001b[0m\n\u001b[0;32m---> 32\u001b[0;31m \u001b[0mmodel\u001b[0m\u001b[0;34m.\u001b[0m\u001b[0mfit\u001b[0m\u001b[0;34m(\u001b[0m\u001b[0mx_train\u001b[0m\u001b[0;34m,\u001b[0m \u001b[0my_train\u001b[0m\u001b[0;34m,\u001b[0m \u001b[0mepochs\u001b[0m\u001b[0;34m=\u001b[0m\u001b[0;36m10\u001b[0m\u001b[0;34m,\u001b[0m \u001b[0mverbose\u001b[0m\u001b[0;34m=\u001b[0m\u001b[0;36m1\u001b[0m\u001b[0;34m)\u001b[0m\u001b[0;34m\u001b[0m\u001b[0;34m\u001b[0m\u001b[0m\n\u001b[0m",
      "\u001b[0;32m~/Envs/dl/lib/python3.8/site-packages/tensorflow/python/keras/engine/training.py\u001b[0m in \u001b[0;36mfit\u001b[0;34m(self, x, y, batch_size, epochs, verbose, callbacks, validation_split, validation_data, shuffle, class_weight, sample_weight, initial_epoch, steps_per_epoch, validation_steps, validation_batch_size, validation_freq, max_queue_size, workers, use_multiprocessing)\u001b[0m\n\u001b[1;32m   1103\u001b[0m               \u001b[0mlogs\u001b[0m \u001b[0;34m=\u001b[0m \u001b[0mtmp_logs\u001b[0m  \u001b[0;31m# No error, now safe to assign to logs.\u001b[0m\u001b[0;34m\u001b[0m\u001b[0;34m\u001b[0m\u001b[0m\n\u001b[1;32m   1104\u001b[0m               \u001b[0mend_step\u001b[0m \u001b[0;34m=\u001b[0m \u001b[0mstep\u001b[0m \u001b[0;34m+\u001b[0m \u001b[0mdata_handler\u001b[0m\u001b[0;34m.\u001b[0m\u001b[0mstep_increment\u001b[0m\u001b[0;34m\u001b[0m\u001b[0;34m\u001b[0m\u001b[0m\n\u001b[0;32m-> 1105\u001b[0;31m               \u001b[0mcallbacks\u001b[0m\u001b[0;34m.\u001b[0m\u001b[0mon_train_batch_end\u001b[0m\u001b[0;34m(\u001b[0m\u001b[0mend_step\u001b[0m\u001b[0;34m,\u001b[0m \u001b[0mlogs\u001b[0m\u001b[0;34m)\u001b[0m\u001b[0;34m\u001b[0m\u001b[0;34m\u001b[0m\u001b[0m\n\u001b[0m\u001b[1;32m   1106\u001b[0m               \u001b[0;32mif\u001b[0m \u001b[0mself\u001b[0m\u001b[0;34m.\u001b[0m\u001b[0mstop_training\u001b[0m\u001b[0;34m:\u001b[0m\u001b[0;34m\u001b[0m\u001b[0;34m\u001b[0m\u001b[0m\n\u001b[1;32m   1107\u001b[0m                 \u001b[0;32mbreak\u001b[0m\u001b[0;34m\u001b[0m\u001b[0;34m\u001b[0m\u001b[0m\n",
      "\u001b[0;32m~/Envs/dl/lib/python3.8/site-packages/tensorflow/python/keras/callbacks.py\u001b[0m in \u001b[0;36mon_train_batch_end\u001b[0;34m(self, batch, logs)\u001b[0m\n\u001b[1;32m    452\u001b[0m     \"\"\"\n\u001b[1;32m    453\u001b[0m     \u001b[0;32mif\u001b[0m \u001b[0mself\u001b[0m\u001b[0;34m.\u001b[0m\u001b[0m_should_call_train_batch_hooks\u001b[0m\u001b[0;34m:\u001b[0m\u001b[0;34m\u001b[0m\u001b[0;34m\u001b[0m\u001b[0m\n\u001b[0;32m--> 454\u001b[0;31m       \u001b[0mself\u001b[0m\u001b[0;34m.\u001b[0m\u001b[0m_call_batch_hook\u001b[0m\u001b[0;34m(\u001b[0m\u001b[0mModeKeys\u001b[0m\u001b[0;34m.\u001b[0m\u001b[0mTRAIN\u001b[0m\u001b[0;34m,\u001b[0m \u001b[0;34m'end'\u001b[0m\u001b[0;34m,\u001b[0m \u001b[0mbatch\u001b[0m\u001b[0;34m,\u001b[0m \u001b[0mlogs\u001b[0m\u001b[0;34m=\u001b[0m\u001b[0mlogs\u001b[0m\u001b[0;34m)\u001b[0m\u001b[0;34m\u001b[0m\u001b[0;34m\u001b[0m\u001b[0m\n\u001b[0m\u001b[1;32m    455\u001b[0m \u001b[0;34m\u001b[0m\u001b[0m\n\u001b[1;32m    456\u001b[0m   \u001b[0;32mdef\u001b[0m \u001b[0mon_test_batch_begin\u001b[0m\u001b[0;34m(\u001b[0m\u001b[0mself\u001b[0m\u001b[0;34m,\u001b[0m \u001b[0mbatch\u001b[0m\u001b[0;34m,\u001b[0m \u001b[0mlogs\u001b[0m\u001b[0;34m=\u001b[0m\u001b[0;32mNone\u001b[0m\u001b[0;34m)\u001b[0m\u001b[0;34m:\u001b[0m\u001b[0;34m\u001b[0m\u001b[0;34m\u001b[0m\u001b[0m\n",
      "\u001b[0;32m~/Envs/dl/lib/python3.8/site-packages/tensorflow/python/keras/callbacks.py\u001b[0m in \u001b[0;36m_call_batch_hook\u001b[0;34m(self, mode, hook, batch, logs)\u001b[0m\n\u001b[1;32m    294\u001b[0m       \u001b[0mself\u001b[0m\u001b[0;34m.\u001b[0m\u001b[0m_call_batch_begin_hook\u001b[0m\u001b[0;34m(\u001b[0m\u001b[0mmode\u001b[0m\u001b[0;34m,\u001b[0m \u001b[0mbatch\u001b[0m\u001b[0;34m,\u001b[0m \u001b[0mlogs\u001b[0m\u001b[0;34m)\u001b[0m\u001b[0;34m\u001b[0m\u001b[0;34m\u001b[0m\u001b[0m\n\u001b[1;32m    295\u001b[0m     \u001b[0;32melif\u001b[0m \u001b[0mhook\u001b[0m \u001b[0;34m==\u001b[0m \u001b[0;34m'end'\u001b[0m\u001b[0;34m:\u001b[0m\u001b[0;34m\u001b[0m\u001b[0;34m\u001b[0m\u001b[0m\n\u001b[0;32m--> 296\u001b[0;31m       \u001b[0mself\u001b[0m\u001b[0;34m.\u001b[0m\u001b[0m_call_batch_end_hook\u001b[0m\u001b[0;34m(\u001b[0m\u001b[0mmode\u001b[0m\u001b[0;34m,\u001b[0m \u001b[0mbatch\u001b[0m\u001b[0;34m,\u001b[0m \u001b[0mlogs\u001b[0m\u001b[0;34m)\u001b[0m\u001b[0;34m\u001b[0m\u001b[0;34m\u001b[0m\u001b[0m\n\u001b[0m\u001b[1;32m    297\u001b[0m     \u001b[0;32melse\u001b[0m\u001b[0;34m:\u001b[0m\u001b[0;34m\u001b[0m\u001b[0;34m\u001b[0m\u001b[0m\n\u001b[1;32m    298\u001b[0m       \u001b[0;32mraise\u001b[0m \u001b[0mValueError\u001b[0m\u001b[0;34m(\u001b[0m\u001b[0;34m'Unrecognized hook: {}'\u001b[0m\u001b[0;34m.\u001b[0m\u001b[0mformat\u001b[0m\u001b[0;34m(\u001b[0m\u001b[0mhook\u001b[0m\u001b[0;34m)\u001b[0m\u001b[0;34m)\u001b[0m\u001b[0;34m\u001b[0m\u001b[0;34m\u001b[0m\u001b[0m\n",
      "\u001b[0;32m~/Envs/dl/lib/python3.8/site-packages/tensorflow/python/keras/callbacks.py\u001b[0m in \u001b[0;36m_call_batch_end_hook\u001b[0;34m(self, mode, batch, logs)\u001b[0m\n\u001b[1;32m    314\u001b[0m       \u001b[0mself\u001b[0m\u001b[0;34m.\u001b[0m\u001b[0m_batch_times\u001b[0m\u001b[0;34m.\u001b[0m\u001b[0mappend\u001b[0m\u001b[0;34m(\u001b[0m\u001b[0mbatch_time\u001b[0m\u001b[0;34m)\u001b[0m\u001b[0;34m\u001b[0m\u001b[0;34m\u001b[0m\u001b[0m\n\u001b[1;32m    315\u001b[0m \u001b[0;34m\u001b[0m\u001b[0m\n\u001b[0;32m--> 316\u001b[0;31m     \u001b[0mself\u001b[0m\u001b[0;34m.\u001b[0m\u001b[0m_call_batch_hook_helper\u001b[0m\u001b[0;34m(\u001b[0m\u001b[0mhook_name\u001b[0m\u001b[0;34m,\u001b[0m \u001b[0mbatch\u001b[0m\u001b[0;34m,\u001b[0m \u001b[0mlogs\u001b[0m\u001b[0;34m)\u001b[0m\u001b[0;34m\u001b[0m\u001b[0;34m\u001b[0m\u001b[0m\n\u001b[0m\u001b[1;32m    317\u001b[0m \u001b[0;34m\u001b[0m\u001b[0m\n\u001b[1;32m    318\u001b[0m     \u001b[0;32mif\u001b[0m \u001b[0mlen\u001b[0m\u001b[0;34m(\u001b[0m\u001b[0mself\u001b[0m\u001b[0;34m.\u001b[0m\u001b[0m_batch_times\u001b[0m\u001b[0;34m)\u001b[0m \u001b[0;34m>=\u001b[0m \u001b[0mself\u001b[0m\u001b[0;34m.\u001b[0m\u001b[0m_num_batches_for_timing_check\u001b[0m\u001b[0;34m:\u001b[0m\u001b[0;34m\u001b[0m\u001b[0;34m\u001b[0m\u001b[0m\n",
      "\u001b[0;32m~/Envs/dl/lib/python3.8/site-packages/tensorflow/python/keras/callbacks.py\u001b[0m in \u001b[0;36m_call_batch_hook_helper\u001b[0;34m(self, hook_name, batch, logs)\u001b[0m\n\u001b[1;32m    354\u001b[0m       \u001b[0mhook\u001b[0m \u001b[0;34m=\u001b[0m \u001b[0mgetattr\u001b[0m\u001b[0;34m(\u001b[0m\u001b[0mcallback\u001b[0m\u001b[0;34m,\u001b[0m \u001b[0mhook_name\u001b[0m\u001b[0;34m)\u001b[0m\u001b[0;34m\u001b[0m\u001b[0;34m\u001b[0m\u001b[0m\n\u001b[1;32m    355\u001b[0m       \u001b[0;32mif\u001b[0m \u001b[0mgetattr\u001b[0m\u001b[0;34m(\u001b[0m\u001b[0mcallback\u001b[0m\u001b[0;34m,\u001b[0m \u001b[0;34m'_supports_tf_logs'\u001b[0m\u001b[0;34m,\u001b[0m \u001b[0;32mFalse\u001b[0m\u001b[0;34m)\u001b[0m\u001b[0;34m:\u001b[0m\u001b[0;34m\u001b[0m\u001b[0;34m\u001b[0m\u001b[0m\n\u001b[0;32m--> 356\u001b[0;31m         \u001b[0mhook\u001b[0m\u001b[0;34m(\u001b[0m\u001b[0mbatch\u001b[0m\u001b[0;34m,\u001b[0m \u001b[0mlogs\u001b[0m\u001b[0;34m)\u001b[0m\u001b[0;34m\u001b[0m\u001b[0;34m\u001b[0m\u001b[0m\n\u001b[0m\u001b[1;32m    357\u001b[0m       \u001b[0;32melse\u001b[0m\u001b[0;34m:\u001b[0m\u001b[0;34m\u001b[0m\u001b[0;34m\u001b[0m\u001b[0m\n\u001b[1;32m    358\u001b[0m         \u001b[0;32mif\u001b[0m \u001b[0mnumpy_logs\u001b[0m \u001b[0;32mis\u001b[0m \u001b[0;32mNone\u001b[0m\u001b[0;34m:\u001b[0m  \u001b[0;31m# Only convert once.\u001b[0m\u001b[0;34m\u001b[0m\u001b[0;34m\u001b[0m\u001b[0m\n",
      "\u001b[0;32m~/Envs/dl/lib/python3.8/site-packages/tensorflow/python/keras/callbacks.py\u001b[0m in \u001b[0;36mon_train_batch_end\u001b[0;34m(self, batch, logs)\u001b[0m\n\u001b[1;32m   1018\u001b[0m \u001b[0;34m\u001b[0m\u001b[0m\n\u001b[1;32m   1019\u001b[0m   \u001b[0;32mdef\u001b[0m \u001b[0mon_train_batch_end\u001b[0m\u001b[0;34m(\u001b[0m\u001b[0mself\u001b[0m\u001b[0;34m,\u001b[0m \u001b[0mbatch\u001b[0m\u001b[0;34m,\u001b[0m \u001b[0mlogs\u001b[0m\u001b[0;34m=\u001b[0m\u001b[0;32mNone\u001b[0m\u001b[0;34m)\u001b[0m\u001b[0;34m:\u001b[0m\u001b[0;34m\u001b[0m\u001b[0;34m\u001b[0m\u001b[0m\n\u001b[0;32m-> 1020\u001b[0;31m     \u001b[0mself\u001b[0m\u001b[0;34m.\u001b[0m\u001b[0m_batch_update_progbar\u001b[0m\u001b[0;34m(\u001b[0m\u001b[0mbatch\u001b[0m\u001b[0;34m,\u001b[0m \u001b[0mlogs\u001b[0m\u001b[0;34m)\u001b[0m\u001b[0;34m\u001b[0m\u001b[0;34m\u001b[0m\u001b[0m\n\u001b[0m\u001b[1;32m   1021\u001b[0m \u001b[0;34m\u001b[0m\u001b[0m\n\u001b[1;32m   1022\u001b[0m   \u001b[0;32mdef\u001b[0m \u001b[0mon_test_batch_end\u001b[0m\u001b[0;34m(\u001b[0m\u001b[0mself\u001b[0m\u001b[0;34m,\u001b[0m \u001b[0mbatch\u001b[0m\u001b[0;34m,\u001b[0m \u001b[0mlogs\u001b[0m\u001b[0;34m=\u001b[0m\u001b[0;32mNone\u001b[0m\u001b[0;34m)\u001b[0m\u001b[0;34m:\u001b[0m\u001b[0;34m\u001b[0m\u001b[0;34m\u001b[0m\u001b[0m\n",
      "\u001b[0;32m~/Envs/dl/lib/python3.8/site-packages/tensorflow/python/keras/callbacks.py\u001b[0m in \u001b[0;36m_batch_update_progbar\u001b[0;34m(self, batch, logs)\u001b[0m\n\u001b[1;32m   1082\u001b[0m     \u001b[0;32mif\u001b[0m \u001b[0mself\u001b[0m\u001b[0;34m.\u001b[0m\u001b[0mverbose\u001b[0m \u001b[0;34m==\u001b[0m \u001b[0;36m1\u001b[0m\u001b[0;34m:\u001b[0m\u001b[0;34m\u001b[0m\u001b[0;34m\u001b[0m\u001b[0m\n\u001b[1;32m   1083\u001b[0m       \u001b[0;31m# Only block async when verbose = 1.\u001b[0m\u001b[0;34m\u001b[0m\u001b[0;34m\u001b[0m\u001b[0;34m\u001b[0m\u001b[0m\n\u001b[0;32m-> 1084\u001b[0;31m       \u001b[0mlogs\u001b[0m \u001b[0;34m=\u001b[0m \u001b[0mtf_utils\u001b[0m\u001b[0;34m.\u001b[0m\u001b[0mto_numpy_or_python_type\u001b[0m\u001b[0;34m(\u001b[0m\u001b[0mlogs\u001b[0m\u001b[0;34m)\u001b[0m\u001b[0;34m\u001b[0m\u001b[0;34m\u001b[0m\u001b[0m\n\u001b[0m\u001b[1;32m   1085\u001b[0m       \u001b[0mself\u001b[0m\u001b[0;34m.\u001b[0m\u001b[0mprogbar\u001b[0m\u001b[0;34m.\u001b[0m\u001b[0mupdate\u001b[0m\u001b[0;34m(\u001b[0m\u001b[0mself\u001b[0m\u001b[0;34m.\u001b[0m\u001b[0mseen\u001b[0m\u001b[0;34m,\u001b[0m \u001b[0mlist\u001b[0m\u001b[0;34m(\u001b[0m\u001b[0mlogs\u001b[0m\u001b[0;34m.\u001b[0m\u001b[0mitems\u001b[0m\u001b[0;34m(\u001b[0m\u001b[0;34m)\u001b[0m\u001b[0;34m)\u001b[0m\u001b[0;34m,\u001b[0m \u001b[0mfinalize\u001b[0m\u001b[0;34m=\u001b[0m\u001b[0;32mFalse\u001b[0m\u001b[0;34m)\u001b[0m\u001b[0;34m\u001b[0m\u001b[0;34m\u001b[0m\u001b[0m\n\u001b[1;32m   1086\u001b[0m \u001b[0;34m\u001b[0m\u001b[0m\n",
      "\u001b[0;32m~/Envs/dl/lib/python3.8/site-packages/tensorflow/python/keras/utils/tf_utils.py\u001b[0m in \u001b[0;36mto_numpy_or_python_type\u001b[0;34m(tensors)\u001b[0m\n\u001b[1;32m    512\u001b[0m     \u001b[0;32mreturn\u001b[0m \u001b[0mt\u001b[0m  \u001b[0;31m# Don't turn ragged or sparse tensors to NumPy.\u001b[0m\u001b[0;34m\u001b[0m\u001b[0;34m\u001b[0m\u001b[0m\n\u001b[1;32m    513\u001b[0m \u001b[0;34m\u001b[0m\u001b[0m\n\u001b[0;32m--> 514\u001b[0;31m   \u001b[0;32mreturn\u001b[0m \u001b[0mnest\u001b[0m\u001b[0;34m.\u001b[0m\u001b[0mmap_structure\u001b[0m\u001b[0;34m(\u001b[0m\u001b[0m_to_single_numpy_or_python_type\u001b[0m\u001b[0;34m,\u001b[0m \u001b[0mtensors\u001b[0m\u001b[0;34m)\u001b[0m\u001b[0;34m\u001b[0m\u001b[0;34m\u001b[0m\u001b[0m\n\u001b[0m\u001b[1;32m    515\u001b[0m \u001b[0;34m\u001b[0m\u001b[0m\n\u001b[1;32m    516\u001b[0m \u001b[0;34m\u001b[0m\u001b[0m\n",
      "\u001b[0;32m~/Envs/dl/lib/python3.8/site-packages/tensorflow/python/util/nest.py\u001b[0m in \u001b[0;36mmap_structure\u001b[0;34m(func, *structure, **kwargs)\u001b[0m\n\u001b[1;32m    657\u001b[0m \u001b[0;34m\u001b[0m\u001b[0m\n\u001b[1;32m    658\u001b[0m   return pack_sequence_as(\n\u001b[0;32m--> 659\u001b[0;31m       \u001b[0mstructure\u001b[0m\u001b[0;34m[\u001b[0m\u001b[0;36m0\u001b[0m\u001b[0;34m]\u001b[0m\u001b[0;34m,\u001b[0m \u001b[0;34m[\u001b[0m\u001b[0mfunc\u001b[0m\u001b[0;34m(\u001b[0m\u001b[0;34m*\u001b[0m\u001b[0mx\u001b[0m\u001b[0;34m)\u001b[0m \u001b[0;32mfor\u001b[0m \u001b[0mx\u001b[0m \u001b[0;32min\u001b[0m \u001b[0mentries\u001b[0m\u001b[0;34m]\u001b[0m\u001b[0;34m,\u001b[0m\u001b[0;34m\u001b[0m\u001b[0;34m\u001b[0m\u001b[0m\n\u001b[0m\u001b[1;32m    660\u001b[0m       expand_composites=expand_composites)\n\u001b[1;32m    661\u001b[0m \u001b[0;34m\u001b[0m\u001b[0m\n",
      "\u001b[0;32m~/Envs/dl/lib/python3.8/site-packages/tensorflow/python/util/nest.py\u001b[0m in \u001b[0;36m<listcomp>\u001b[0;34m(.0)\u001b[0m\n\u001b[1;32m    657\u001b[0m \u001b[0;34m\u001b[0m\u001b[0m\n\u001b[1;32m    658\u001b[0m   return pack_sequence_as(\n\u001b[0;32m--> 659\u001b[0;31m       \u001b[0mstructure\u001b[0m\u001b[0;34m[\u001b[0m\u001b[0;36m0\u001b[0m\u001b[0;34m]\u001b[0m\u001b[0;34m,\u001b[0m \u001b[0;34m[\u001b[0m\u001b[0mfunc\u001b[0m\u001b[0;34m(\u001b[0m\u001b[0;34m*\u001b[0m\u001b[0mx\u001b[0m\u001b[0;34m)\u001b[0m \u001b[0;32mfor\u001b[0m \u001b[0mx\u001b[0m \u001b[0;32min\u001b[0m \u001b[0mentries\u001b[0m\u001b[0;34m]\u001b[0m\u001b[0;34m,\u001b[0m\u001b[0;34m\u001b[0m\u001b[0;34m\u001b[0m\u001b[0m\n\u001b[0m\u001b[1;32m    660\u001b[0m       expand_composites=expand_composites)\n\u001b[1;32m    661\u001b[0m \u001b[0;34m\u001b[0m\u001b[0m\n",
      "\u001b[0;32m~/Envs/dl/lib/python3.8/site-packages/tensorflow/python/keras/utils/tf_utils.py\u001b[0m in \u001b[0;36m_to_single_numpy_or_python_type\u001b[0;34m(t)\u001b[0m\n\u001b[1;32m    508\u001b[0m   \u001b[0;32mdef\u001b[0m \u001b[0m_to_single_numpy_or_python_type\u001b[0m\u001b[0;34m(\u001b[0m\u001b[0mt\u001b[0m\u001b[0;34m)\u001b[0m\u001b[0;34m:\u001b[0m\u001b[0;34m\u001b[0m\u001b[0;34m\u001b[0m\u001b[0m\n\u001b[1;32m    509\u001b[0m     \u001b[0;32mif\u001b[0m \u001b[0misinstance\u001b[0m\u001b[0;34m(\u001b[0m\u001b[0mt\u001b[0m\u001b[0;34m,\u001b[0m \u001b[0mops\u001b[0m\u001b[0;34m.\u001b[0m\u001b[0mTensor\u001b[0m\u001b[0;34m)\u001b[0m\u001b[0;34m:\u001b[0m\u001b[0;34m\u001b[0m\u001b[0;34m\u001b[0m\u001b[0m\n\u001b[0;32m--> 510\u001b[0;31m       \u001b[0mx\u001b[0m \u001b[0;34m=\u001b[0m \u001b[0mt\u001b[0m\u001b[0;34m.\u001b[0m\u001b[0mnumpy\u001b[0m\u001b[0;34m(\u001b[0m\u001b[0;34m)\u001b[0m\u001b[0;34m\u001b[0m\u001b[0;34m\u001b[0m\u001b[0m\n\u001b[0m\u001b[1;32m    511\u001b[0m       \u001b[0;32mreturn\u001b[0m \u001b[0mx\u001b[0m\u001b[0;34m.\u001b[0m\u001b[0mitem\u001b[0m\u001b[0;34m(\u001b[0m\u001b[0;34m)\u001b[0m \u001b[0;32mif\u001b[0m \u001b[0mnp\u001b[0m\u001b[0;34m.\u001b[0m\u001b[0mndim\u001b[0m\u001b[0;34m(\u001b[0m\u001b[0mx\u001b[0m\u001b[0;34m)\u001b[0m \u001b[0;34m==\u001b[0m \u001b[0;36m0\u001b[0m \u001b[0;32melse\u001b[0m \u001b[0mx\u001b[0m\u001b[0;34m\u001b[0m\u001b[0;34m\u001b[0m\u001b[0m\n\u001b[1;32m    512\u001b[0m     \u001b[0;32mreturn\u001b[0m \u001b[0mt\u001b[0m  \u001b[0;31m# Don't turn ragged or sparse tensors to NumPy.\u001b[0m\u001b[0;34m\u001b[0m\u001b[0;34m\u001b[0m\u001b[0m\n",
      "\u001b[0;32m~/Envs/dl/lib/python3.8/site-packages/tensorflow/python/framework/ops.py\u001b[0m in \u001b[0;36mnumpy\u001b[0;34m(self)\u001b[0m\n\u001b[1;32m   1069\u001b[0m     \"\"\"\n\u001b[1;32m   1070\u001b[0m     \u001b[0;31m# TODO(slebedev): Consider avoiding a copy for non-CPU or remote tensors.\u001b[0m\u001b[0;34m\u001b[0m\u001b[0;34m\u001b[0m\u001b[0;34m\u001b[0m\u001b[0m\n\u001b[0;32m-> 1071\u001b[0;31m     \u001b[0mmaybe_arr\u001b[0m \u001b[0;34m=\u001b[0m \u001b[0mself\u001b[0m\u001b[0;34m.\u001b[0m\u001b[0m_numpy\u001b[0m\u001b[0;34m(\u001b[0m\u001b[0;34m)\u001b[0m  \u001b[0;31m# pylint: disable=protected-access\u001b[0m\u001b[0;34m\u001b[0m\u001b[0;34m\u001b[0m\u001b[0m\n\u001b[0m\u001b[1;32m   1072\u001b[0m     \u001b[0;32mreturn\u001b[0m \u001b[0mmaybe_arr\u001b[0m\u001b[0;34m.\u001b[0m\u001b[0mcopy\u001b[0m\u001b[0;34m(\u001b[0m\u001b[0;34m)\u001b[0m \u001b[0;32mif\u001b[0m \u001b[0misinstance\u001b[0m\u001b[0;34m(\u001b[0m\u001b[0mmaybe_arr\u001b[0m\u001b[0;34m,\u001b[0m \u001b[0mnp\u001b[0m\u001b[0;34m.\u001b[0m\u001b[0mndarray\u001b[0m\u001b[0;34m)\u001b[0m \u001b[0;32melse\u001b[0m \u001b[0mmaybe_arr\u001b[0m\u001b[0;34m\u001b[0m\u001b[0;34m\u001b[0m\u001b[0m\n\u001b[1;32m   1073\u001b[0m \u001b[0;34m\u001b[0m\u001b[0m\n",
      "\u001b[0;32m~/Envs/dl/lib/python3.8/site-packages/tensorflow/python/framework/ops.py\u001b[0m in \u001b[0;36m_numpy\u001b[0;34m(self)\u001b[0m\n\u001b[1;32m   1035\u001b[0m   \u001b[0;32mdef\u001b[0m \u001b[0m_numpy\u001b[0m\u001b[0;34m(\u001b[0m\u001b[0mself\u001b[0m\u001b[0;34m)\u001b[0m\u001b[0;34m:\u001b[0m\u001b[0;34m\u001b[0m\u001b[0;34m\u001b[0m\u001b[0m\n\u001b[1;32m   1036\u001b[0m     \u001b[0;32mtry\u001b[0m\u001b[0;34m:\u001b[0m\u001b[0;34m\u001b[0m\u001b[0;34m\u001b[0m\u001b[0m\n\u001b[0;32m-> 1037\u001b[0;31m       \u001b[0;32mreturn\u001b[0m \u001b[0mself\u001b[0m\u001b[0;34m.\u001b[0m\u001b[0m_numpy_internal\u001b[0m\u001b[0;34m(\u001b[0m\u001b[0;34m)\u001b[0m\u001b[0;34m\u001b[0m\u001b[0;34m\u001b[0m\u001b[0m\n\u001b[0m\u001b[1;32m   1038\u001b[0m     \u001b[0;32mexcept\u001b[0m \u001b[0mcore\u001b[0m\u001b[0;34m.\u001b[0m\u001b[0m_NotOkStatusException\u001b[0m \u001b[0;32mas\u001b[0m \u001b[0me\u001b[0m\u001b[0;34m:\u001b[0m  \u001b[0;31m# pylint: disable=protected-access\u001b[0m\u001b[0;34m\u001b[0m\u001b[0;34m\u001b[0m\u001b[0m\n\u001b[1;32m   1039\u001b[0m       \u001b[0msix\u001b[0m\u001b[0;34m.\u001b[0m\u001b[0mraise_from\u001b[0m\u001b[0;34m(\u001b[0m\u001b[0mcore\u001b[0m\u001b[0;34m.\u001b[0m\u001b[0m_status_to_exception\u001b[0m\u001b[0;34m(\u001b[0m\u001b[0me\u001b[0m\u001b[0;34m.\u001b[0m\u001b[0mcode\u001b[0m\u001b[0;34m,\u001b[0m \u001b[0me\u001b[0m\u001b[0;34m.\u001b[0m\u001b[0mmessage\u001b[0m\u001b[0;34m)\u001b[0m\u001b[0;34m,\u001b[0m \u001b[0;32mNone\u001b[0m\u001b[0;34m)\u001b[0m  \u001b[0;31m# pylint: disable=protected-access\u001b[0m\u001b[0;34m\u001b[0m\u001b[0;34m\u001b[0m\u001b[0m\n",
      "\u001b[0;31mKeyboardInterrupt\u001b[0m: "
     ]
    }
   ],
   "source": [
    "\n",
    "\n",
    "def get_model(\n",
    "    filters=[64, 128, 128, 256, 256], \n",
    "    kernel_sizes=[9, 9, 9, 9, 9], \n",
    "    pool_type='max',\n",
    "    input_shape=(8192, 1), \n",
    "    output_shape=(256, 4)\n",
    "):\n",
    "        \n",
    "    if input_shape[0] % output_shape[0] != 0:\n",
    "        raise ValueError(\"Input length is not a multiple of output length: \" +\n",
    "                         f\"{input_shape[0]} vs. {output_shape[0]}\")\n",
    "    \n",
    "    if pool_type.startswith('max'):\n",
    "        Pool1D = tf.keras.layers.MaxPool1D\n",
    "    elif pool_type.startswith(('mean', 'average', 'avg')):\n",
    "        Pool1D = tf.keras.layers.AveragePool1D\n",
    "    else:\n",
    "        raise ValueError(f\"'{pool_type}' not available, select either of: \" +\n",
    "                          \"'max'/'maximum' or 'mean'/'average'/'avg'\")\n",
    "    \n",
    "    inputs = tf.keras.layers.Input(input_shape)\n",
    "    \n",
    "    x = inputs\n",
    "    for filt, kernel_size in zip(filters, kernel_sizes):\n",
    "        x = tf.keras.layers.Conv1D(filt, kernel_size, strides=1, padding='same')(x)\n",
    "        x = Pool1D()(x)\n",
    "        \n",
    "        if x.shape[1] < output_shape[0]:\n",
    "            raise ValueError(\"Length of downstream feature maps is smaller \" + \n",
    "                             f\"than the output length: {x.shape[1]} vs. {output_shape[0]}. \" +\n",
    "                             \"To fix this, reduce the number of layers.\")\n",
    "        \n",
    "        \n",
    "    x = tf.keras.layers.Conv1D(output_shape[0], kernel_size=1, strides=1)(x)\n",
    "    x = tf.keras.layers.Conv1D(output_shape[1], kernel_size=1, strides=1)(x)\n",
    "    \n",
    "    outputs = SelectiveActivation(output_shape[1])(x)\n",
    "\n",
    "    return tf.keras.Model(inputs=inputs, outputs=outputs)\n",
    "    \n",
    "    \n",
    "model = get_model()\n",
    "model.compile(loss=MixedLoss(1.0, 1.0, 1.0, 1.0), optimizer=tf.keras.optimizers.Adam(1e-3))\n",
    "model.fit(x_train, y_train, epochs=10, verbose=1)"
   ]
  },
  {
   "cell_type": "code",
   "execution_count": 9,
   "metadata": {
    "scrolled": false
   },
   "outputs": [
    {
     "data": {
      "text/plain": [
       "(0.45, 0.6)"
      ]
     },
     "execution_count": 9,
     "metadata": {},
     "output_type": "execute_result"
    },
    {
     "data": {
      "image/png": "[encoded data removed]",
      "text/plain": [
       "<Figure size 1440x648 with 1 Axes>"
      ]
     },
     "metadata": {
      "needs_background": "light"
     },
     "output_type": "display_data"
    }
   ],
   "source": [
    "plt.figure(figsize=(20, 9))\n",
    "#plt.ylim(-.2, 1.15)\n",
    "\n",
    "ID = 1\n",
    "\n",
    "# GROUND TRUTH\n",
    "gt = encoder.decode(y_validation[ID])\n",
    "for i, (l, s, a) in enumerate(zip(gt[1], gt[2], gt[3])):\n",
    "    if i == 0:\n",
    "        label = 'Ground truths'\n",
    "    else:\n",
    "        label = None\n",
    "    #plt.axvline(l, color='black', linestyle=':', label=label)\n",
    "    plt.plot([l, l], [0, a], color='C1', linewidth=4)\n",
    "    plt.plot([l-s/2, l+s/2], [0, 0], color='C1', linewidth=4)\n",
    "\n",
    "# PREDICTIONS\n",
    "prediction = model.predict(x_validation[ID][None])[0]\n",
    "probs, locs, scales, amplitudes = encoder.decode(prediction, 0.5) # prob, loc, scale, amplitude\n",
    "\n",
    "for i, (p, l, w, a) in enumerate(zip(probs, locs, scales, amplitudes)):\n",
    "    plt.scatter(l, min(x_validation[ID])-10, label=f'prob = {p:.3f}', c=f'C{i}')\n",
    "    #plt.plot([l-w/2, l+w/2], [.080+(i*.015), .080+(i*.015)], color=f'C{i}')\n",
    "    #print(a)\n",
    "    plt.plot([l, l], [0, a], color='C0', linewidth=4, linestyle=':')\n",
    "    plt.plot([l-s/2, l+s/2], [0, 0], color='C0', linewidth=4, linestyle=':')\n",
    "    \n",
    "# CHROMATOGRAM\n",
    "plt.plot(t, x_validation[ID])\n",
    "\n",
    "\n",
    "plt.ylim(None, max(x_validation[ID])+60)\n",
    "plt.legend(ncol=10)\n",
    "\n",
    "plt.xlim(0.45, 0.6)\n",
    "# for i, _ in enumerate(np.linspace(0, 1, 257)):\n",
    "#     plt.axvline(_, ymin=0.0, ymax=0.1, color='grey', alpha=0.8)\n",
    "#     plt.text(x = _ + 0.002, y=min(X[ID])*1.2, s=i)\n",
    "    \n",
    "#plt.savefig(f'pd_{ID}.png', dpi=300)"
   ]
  },
  {
   "cell_type": "code",
   "execution_count": 62,
   "metadata": {},
   "outputs": [
    {
     "name": "stdout",
     "output_type": "stream",
     "text": [
      "Epoch 1/100\n",
      "32/32 - 0s - loss: 0.0744\n",
      "Epoch 2/100\n",
      "32/32 - 0s - loss: 0.0744\n",
      "Epoch 3/100\n",
      "32/32 - 0s - loss: 0.0744\n",
      "Epoch 4/100\n",
      "32/32 - 0s - loss: 0.0744\n",
      "Epoch 5/100\n",
      "32/32 - 0s - loss: 0.0744\n",
      "Epoch 6/100\n",
      "32/32 - 0s - loss: 0.0744\n",
      "Epoch 7/100\n",
      "32/32 - 0s - loss: 0.0744\n",
      "Epoch 8/100\n",
      "32/32 - 0s - loss: 0.0744\n",
      "Epoch 9/100\n",
      "32/32 - 0s - loss: 0.0744\n",
      "Epoch 10/100\n",
      "32/32 - 0s - loss: 0.0744\n",
      "Epoch 11/100\n",
      "32/32 - 0s - loss: 0.0744\n",
      "Epoch 12/100\n",
      "32/32 - 0s - loss: 0.0744\n",
      "Epoch 13/100\n",
      "32/32 - 0s - loss: 0.0744\n",
      "Epoch 14/100\n",
      "32/32 - 0s - loss: 0.0744\n",
      "Epoch 15/100\n",
      "32/32 - 0s - loss: 0.0744\n",
      "Epoch 16/100\n",
      "32/32 - 0s - loss: 0.0744\n",
      "Epoch 17/100\n",
      "32/32 - 0s - loss: 0.0744\n",
      "Epoch 18/100\n",
      "32/32 - 0s - loss: 0.0744\n",
      "Epoch 19/100\n",
      "32/32 - 0s - loss: 0.0744\n",
      "Epoch 20/100\n",
      "32/32 - 0s - loss: 0.0744\n",
      "Epoch 21/100\n",
      "32/32 - 0s - loss: 0.0744\n",
      "Epoch 22/100\n",
      "32/32 - 0s - loss: 0.0744\n",
      "Epoch 23/100\n",
      "32/32 - 0s - loss: 0.0744\n",
      "Epoch 24/100\n",
      "32/32 - 0s - loss: 0.0744\n",
      "Epoch 25/100\n",
      "32/32 - 0s - loss: 0.0744\n",
      "Epoch 26/100\n",
      "32/32 - 0s - loss: 0.0744\n",
      "Epoch 27/100\n",
      "32/32 - 0s - loss: 0.0744\n",
      "Epoch 28/100\n",
      "32/32 - 0s - loss: 0.0744\n",
      "Epoch 29/100\n",
      "32/32 - 0s - loss: 0.0744\n",
      "Epoch 30/100\n",
      "32/32 - 0s - loss: 0.0744\n",
      "Epoch 31/100\n",
      "32/32 - 0s - loss: 0.0744\n",
      "Epoch 32/100\n",
      "32/32 - 0s - loss: 0.0744\n",
      "Epoch 33/100\n",
      "32/32 - 0s - loss: 0.0744\n",
      "Epoch 34/100\n",
      "32/32 - 0s - loss: 0.0744\n",
      "Epoch 35/100\n",
      "32/32 - 0s - loss: 0.0744\n",
      "Epoch 36/100\n",
      "32/32 - 0s - loss: 0.0744\n",
      "Epoch 37/100\n",
      "32/32 - 0s - loss: 0.0744\n",
      "Epoch 38/100\n",
      "32/32 - 0s - loss: 0.0744\n",
      "Epoch 39/100\n",
      "32/32 - 0s - loss: 0.0744\n",
      "Epoch 40/100\n",
      "32/32 - 0s - loss: 0.0744\n",
      "Epoch 41/100\n",
      "32/32 - 0s - loss: 0.0744\n",
      "Epoch 42/100\n",
      "32/32 - 0s - loss: 0.0744\n",
      "Epoch 43/100\n",
      "32/32 - 0s - loss: 0.0744\n",
      "Epoch 44/100\n",
      "32/32 - 0s - loss: 0.0744\n",
      "Epoch 45/100\n",
      "32/32 - 0s - loss: 0.0744\n",
      "Epoch 46/100\n",
      "32/32 - 0s - loss: 0.0744\n",
      "Epoch 47/100\n",
      "32/32 - 0s - loss: 0.0744\n",
      "Epoch 48/100\n",
      "32/32 - 0s - loss: 0.0744\n",
      "Epoch 49/100\n",
      "32/32 - 0s - loss: 0.0744\n",
      "Epoch 50/100\n",
      "32/32 - 0s - loss: 0.0744\n",
      "Epoch 51/100\n",
      "32/32 - 0s - loss: 0.0744\n",
      "Epoch 52/100\n",
      "32/32 - 0s - loss: 0.0744\n",
      "Epoch 53/100\n",
      "32/32 - 0s - loss: 0.0744\n",
      "Epoch 54/100\n",
      "32/32 - 0s - loss: 0.0744\n",
      "Epoch 55/100\n",
      "32/32 - 0s - loss: 0.0744\n",
      "Epoch 56/100\n",
      "32/32 - 0s - loss: 0.0744\n",
      "Epoch 57/100\n",
      "32/32 - 0s - loss: 0.0744\n",
      "Epoch 58/100\n",
      "32/32 - 0s - loss: 0.0744\n",
      "Epoch 59/100\n",
      "32/32 - 0s - loss: 0.0744\n",
      "Epoch 60/100\n",
      "32/32 - 0s - loss: 0.0744\n",
      "Epoch 61/100\n",
      "32/32 - 0s - loss: 0.0744\n",
      "Epoch 62/100\n",
      "32/32 - 0s - loss: 0.0744\n",
      "Epoch 63/100\n",
      "32/32 - 0s - loss: 0.0744\n",
      "Epoch 64/100\n",
      "32/32 - 0s - loss: 0.0744\n",
      "Epoch 65/100\n",
      "32/32 - 0s - loss: 0.0744\n",
      "Epoch 66/100\n",
      "32/32 - 0s - loss: 0.0744\n",
      "Epoch 67/100\n",
      "32/32 - 0s - loss: 0.0744\n",
      "Epoch 68/100\n",
      "32/32 - 0s - loss: 0.0744\n",
      "Epoch 69/100\n",
      "32/32 - 0s - loss: 0.0744\n",
      "Epoch 70/100\n",
      "32/32 - 0s - loss: 0.0744\n",
      "Epoch 71/100\n",
      "32/32 - 0s - loss: 0.0744\n",
      "Epoch 72/100\n",
      "32/32 - 0s - loss: 0.0744\n",
      "Epoch 73/100\n",
      "32/32 - 0s - loss: 0.0745\n",
      "Epoch 74/100\n",
      "32/32 - 0s - loss: 0.0744\n",
      "Epoch 75/100\n",
      "32/32 - 0s - loss: 0.0744\n",
      "Epoch 76/100\n",
      "32/32 - 0s - loss: 0.0744\n",
      "Epoch 77/100\n",
      "32/32 - 0s - loss: 0.0744\n",
      "Epoch 78/100\n",
      "32/32 - 0s - loss: 0.0744\n",
      "Epoch 79/100\n",
      "32/32 - 0s - loss: 0.0744\n",
      "Epoch 80/100\n",
      "32/32 - 0s - loss: 0.0744\n",
      "Epoch 81/100\n",
      "32/32 - 0s - loss: 0.0744\n",
      "Epoch 82/100\n",
      "32/32 - 0s - loss: 0.0744\n",
      "Epoch 83/100\n",
      "32/32 - 0s - loss: 0.0744\n",
      "Epoch 84/100\n",
      "32/32 - 0s - loss: 0.0744\n",
      "Epoch 85/100\n",
      "32/32 - 0s - loss: 0.0744\n",
      "Epoch 86/100\n",
      "32/32 - 0s - loss: 0.0744\n",
      "Epoch 87/100\n",
      "32/32 - 0s - loss: 0.0744\n",
      "Epoch 88/100\n",
      "32/32 - 0s - loss: 0.0744\n",
      "Epoch 89/100\n",
      "32/32 - 0s - loss: 0.0744\n",
      "Epoch 90/100\n",
      "32/32 - 0s - loss: 0.0744\n",
      "Epoch 91/100\n",
      "32/32 - 0s - loss: 0.0744\n",
      "Epoch 92/100\n",
      "32/32 - 0s - loss: 0.0744\n",
      "Epoch 93/100\n",
      "32/32 - 0s - loss: 0.0744\n",
      "Epoch 94/100\n",
      "32/32 - 0s - loss: 0.0744\n",
      "Epoch 95/100\n",
      "32/32 - 0s - loss: 0.0744\n",
      "Epoch 96/100\n",
      "32/32 - 0s - loss: 0.0744\n",
      "Epoch 97/100\n",
      "32/32 - 0s - loss: 0.0744\n",
      "Epoch 98/100\n",
      "32/32 - 0s - loss: 0.0744\n",
      "Epoch 99/100\n",
      "32/32 - 0s - loss: 0.0744\n",
      "Epoch 100/100\n",
      "32/32 - 0s - loss: 0.0744\n"
     ]
    },
    {
     "data": {
      "text/plain": [
       "<tensorflow.python.keras.callbacks.History at 0x7efe5438a4c0>"
      ]
     },
     "execution_count": 62,
     "metadata": {},
     "output_type": "execute_result"
    }
   ],
   "source": [
    "class TemperatureSoftmaxCalibration(tf.keras.Model):\n",
    "    \n",
    "    def __init__(self, **kwargs):\n",
    "        super().__init__(**kwargs)\n",
    "        self.temperature = tf.Variable(1., trainable=True)\n",
    "    \n",
    "    def call(self, inputs):\n",
    "        z = inputs / self.temperature\n",
    "        p = tf.nn.sigmoid(z)\n",
    "        return p\n",
    "    \n",
    "# class TemperatureSoftmaxCalibration(tf.keras.Model):\n",
    "    \n",
    "#     def __init__(self, **kwargs):\n",
    "#         super().__init__(**kwargs)\n",
    "#         self.a = tf.Variable(1., trainable=True)\n",
    "#         self.b = tf.Variable(0., trainable=True)\n",
    "    \n",
    "#     def call(self, inputs):\n",
    "#         z = self.a * inputs + self.b\n",
    "#         p = tf.nn.sigmoid(z)\n",
    "#         return p\n",
    "    \n",
    "calib = TemperatureSoftmaxCalibration()\n",
    "\n",
    "calib.compile(loss='bce', optimizer=tf.keras.optimizers.Adam(1e-2))\n",
    "\n",
    "predictions = model.predict(x_validation)\n",
    "\n",
    "preds = predictions[:, :, 0]\n",
    "preds = tf.math.log(preds/(1-preds+1e-7))\n",
    "\n",
    "trues = y_validation[:, :, 0],\n",
    "\n",
    "calib.fit(preds, trues, epochs=100, verbose=2)"
   ]
  },
  {
   "cell_type": "code",
   "execution_count": 68,
   "metadata": {},
   "outputs": [
    {
     "data": {
      "text/plain": [
       "array([0.43416422, 0.13729478, 0.19416414, 0.13729478, 0.09708207])"
      ]
     },
     "execution_count": 68,
     "metadata": {},
     "output_type": "execute_result"
    }
   ],
   "source": [
    "a = np.array([0.1, 0.01, 0.02, 0.01, 0.005])**0.5\n",
    "\n",
    "a / a.sum()"
   ]
  },
  {
   "cell_type": "code",
   "execution_count": null,
   "metadata": {},
   "outputs": [],
   "source": []
  },
  {
   "cell_type": "code",
   "execution_count": 63,
   "metadata": {},
   "outputs": [
    {
     "data": {
      "text/plain": [
       "[<tf.Variable 'Variable:0' shape=() dtype=float32, numpy=0.9883287>]"
      ]
     },
     "execution_count": 63,
     "metadata": {},
     "output_type": "execute_result"
    }
   ],
   "source": [
    "calib.trainable_weights"
   ]
  },
  {
   "cell_type": "code",
   "execution_count": 64,
   "metadata": {},
   "outputs": [
    {
     "data": {
      "text/plain": [
       "array([0.9999999 , 0.01315162, 0.00089292, 0.02007515, 0.00584528,\n",
       "       0.00687139, 0.01121641, 0.999027  , 0.00456587, 0.00458048,\n",
       "       0.00555036, 0.00110206, 0.97817916, 0.9656225 , 0.07587819,\n",
       "       0.00085719, 0.18936278, 0.9999999 , 0.00890169, 0.00502496,\n",
       "       0.00666814, 0.00969114, 0.00625463, 0.9926225 , 0.00947756,\n",
       "       0.0071947 , 0.00452559, 0.01128044, 0.00528503, 0.00898242,\n",
       "       0.9914322 , 0.08296558, 0.00495082, 0.00774186, 0.00524516,\n",
       "       0.9473183 , 0.01017711, 0.97146803, 0.99999905, 0.00384132,\n",
       "       0.00556372, 0.01365208, 0.9999999 , 0.00087566, 0.9999999 ,\n",
       "       0.07077321, 0.00650791, 0.9999999 , 0.01482556, 0.0004111 ,\n",
       "       0.0820742 , 0.9999999 , 0.00171471, 0.9999999 , 0.00919203,\n",
       "       0.0066893 , 0.99999976, 0.03940739, 0.0018126 , 0.04514566,\n",
       "       0.00239178, 0.7494513 , 0.5612319 , 0.9996743 , 0.00361779,\n",
       "       0.0107372 , 0.09755078, 0.99999833, 0.00499584, 0.00401576,\n",
       "       0.0043205 , 0.00038904, 0.00273332, 0.88775706, 0.08973409,\n",
       "       0.99999774, 0.01068419, 0.0002521 , 0.00303373, 0.9999999 ,\n",
       "       0.04306421, 0.9999999 , 0.00493844, 0.00064454, 0.00921549,\n",
       "       0.00338862, 0.99993265, 0.0772417 , 0.9999999 , 0.00444176,\n",
       "       0.00171453, 0.00261802, 0.00876099, 0.99999976, 0.7670976 ,\n",
       "       0.9999999 , 0.0110461 , 0.9181864 , 0.00623735, 0.01006048,\n",
       "       0.00512712, 0.02101757, 0.01025121, 0.9999999 , 0.04872489,\n",
       "       0.01723194, 0.00297115, 0.01178639, 0.00128425, 0.9999999 ,\n",
       "       0.10187791, 0.00640882, 0.9999999 , 0.02447313, 0.0070663 ,\n",
       "       0.2622116 , 0.01963389, 0.00189327, 0.00744092, 0.00290971,\n",
       "       0.00848837, 0.9999999 , 0.01143562, 0.99645233, 0.16977006,\n",
       "       0.56658745, 0.00777241, 0.00316019, 0.01498984, 0.9999999 ,\n",
       "       0.00265463, 0.01085085, 0.00254197, 0.99999154, 0.9999999 ,\n",
       "       0.05388627, 0.00107734, 0.0283797 , 0.00426833, 0.00817251,\n",
       "       0.00789202, 0.00968628, 0.00996202, 0.00228193, 0.00426171,\n",
       "       0.9956768 , 0.19799776, 0.9999958 , 0.00389321, 0.0091166 ,\n",
       "       0.9999999 , 0.9970139 , 0.82488596, 0.0040567 , 0.00474496,\n",
       "       0.7923974 , 0.9999999 , 0.01136439, 0.00269701, 0.00714099,\n",
       "       0.9999999 , 0.08882595, 0.9999999 , 0.08623248, 0.9999999 ,\n",
       "       0.00076491, 0.00068403, 0.76060116, 0.9992893 , 0.0029308 ,\n",
       "       0.9999999 , 0.03439957, 0.00281846, 0.00469656, 0.30423456,\n",
       "       0.9999999 , 0.9999999 , 0.4859413 , 0.00364665, 0.0288478 ,\n",
       "       0.05067001, 0.9797505 , 0.4324999 , 0.00233437, 0.03452697,\n",
       "       0.9999944 , 0.99964845, 0.14938194, 0.0050658 , 0.01177611,\n",
       "       0.00687065, 0.00574537, 0.0113283 , 0.01028959, 0.00702097,\n",
       "       0.00732451, 0.00570525, 0.01389462, 0.00396118, 0.0125402 ],\n",
       "      dtype=float32)"
      ]
     },
     "execution_count": 64,
     "metadata": {},
     "output_type": "execute_result"
    }
   ],
   "source": [
    "new_preds = calib.predict(preds)\n",
    "new_preds[0][50:250]"
   ]
  },
  {
   "cell_type": "code",
   "execution_count": 65,
   "metadata": {},
   "outputs": [
    {
     "data": {
      "text/plain": [
       "<tf.Tensor: shape=(200,), dtype=float32, numpy=\n",
       "array([0.9999999 , 0.01382201, 0.00096908, 0.02098755, 0.00620416,\n",
       "       0.00727907, 0.01181126, 0.99894506, 0.00486058, 0.00487595,\n",
       "       0.00589481, 0.00119311, 0.97721136, 0.9643066 , 0.07794944,\n",
       "       0.00093076, 0.19198178, 0.9999999 , 0.00940029, 0.00534316,\n",
       "       0.00706632, 0.01022336, 0.00663324, 0.9921915 , 0.01000077,\n",
       "       0.00761733, 0.00481821, 0.01187785, 0.0056163 , 0.00948449,\n",
       "       0.99094814, 0.08512424, 0.00526527, 0.00818936, 0.00557445,\n",
       "       0.94560975, 0.0107296 , 0.9703043 , 0.9999988 , 0.00409771,\n",
       "       0.00590882, 0.01434135, 0.9999999 , 0.00095057, 0.9999999 ,\n",
       "       0.07277525, 0.00689855, 0.9999999 , 0.01555819, 0.00045024,\n",
       "       0.08422241, 0.9999999 , 0.00184674, 0.9999999 , 0.0097031 ,\n",
       "       0.00708847, 0.99999964, 0.04084283, 0.00195089, 0.04670613,\n",
       "       0.00256582, 0.74704236, 0.5605243 , 0.99964225, 0.00386202,\n",
       "       0.01131269, 0.09986067, 0.999998  , 0.00531257, 0.00428152,\n",
       "       0.00460241, 0.00042636, 0.00292758, 0.88532937, 0.09196752,\n",
       "       0.9999974 , 0.01125752, 0.00027769, 0.00324533, 0.9999999 ,\n",
       "       0.04458062, 0.9999999 , 0.00525226, 0.0007022 , 0.00972756,\n",
       "       0.0036202 , 0.99992466, 0.07933051, 0.9999999 , 0.00473001,\n",
       "       0.00184655, 0.00280552, 0.00925349, 0.99999976, 0.7646029 ,\n",
       "       0.9999999 , 0.0116341 , 0.9160413 , 0.00661513, 0.01060813,\n",
       "       0.00545048, 0.0219601 , 0.01080676, 0.9999999 , 0.05035785,\n",
       "       0.01804966, 0.00317917, 0.01240391, 0.00138785, 0.9999999 ,\n",
       "       0.10422589, 0.00679477, 0.9999999 , 0.02552132, 0.00748301,\n",
       "       0.2645541 , 0.02053197, 0.00203667, 0.00787481, 0.00311419,\n",
       "       0.008969  , 0.9999999 , 0.01203923, 0.9962119 , 0.17239718,\n",
       "       0.5658193 , 0.00822129, 0.00337897, 0.01572843, 0.9999999 ,\n",
       "       0.00284428, 0.01143096, 0.00272498, 0.99999034, 0.9999999 ,\n",
       "       0.05561698, 0.00116666, 0.0295392 , 0.0045475 , 0.00863923,\n",
       "       0.00834625, 0.0102183 , 0.01050558, 0.00244935, 0.00454053,\n",
       "       0.99539477, 0.2006031 , 0.9999951 , 0.00415241, 0.00962444,\n",
       "       0.9999999 , 0.9968051 , 0.82225776, 0.00432466, 0.0050489 ,\n",
       "       0.78981394, 0.9999999 , 0.01196516, 0.00288915, 0.00756114,\n",
       "       0.9999999 , 0.0910498 , 0.9999999 , 0.08842826, 0.9999999 ,\n",
       "       0.00083167, 0.00074471, 0.75813586, 0.99922657, 0.0031365 ,\n",
       "       0.9999999 , 0.03571605, 0.00301767, 0.00499802, 0.30628207,\n",
       "       0.9999999 , 0.9999999 , 0.4861053 , 0.00389246, 0.03002011,\n",
       "       0.05234072, 0.9788325 , 0.43327823, 0.00250496, 0.03584659,\n",
       "       0.99999356, 0.99961424, 0.15198003, 0.00538607, 0.01239323,\n",
       "       0.0072783 , 0.00609938, 0.01192763, 0.01084673, 0.00743559,\n",
       "       0.00775309, 0.0060573 , 0.01459296, 0.00422402, 0.01318716],\n",
       "      dtype=float32)>"
      ]
     },
     "execution_count": 65,
     "metadata": {},
     "output_type": "execute_result"
    }
   ],
   "source": [
    "tf.nn.sigmoid(preds)[0][50:250]"
   ]
  },
  {
   "cell_type": "code",
   "execution_count": 54,
   "metadata": {},
   "outputs": [
    {
     "data": {
      "text/plain": [
       "array([], dtype=float32)"
      ]
     },
     "execution_count": 54,
     "metadata": {},
     "output_type": "execute_result"
    }
   ],
   "source": []
  },
  {
   "cell_type": "code",
   "execution_count": 35,
   "metadata": {},
   "outputs": [],
   "source": []
  },
  {
   "cell_type": "code",
   "execution_count": 28,
   "metadata": {},
   "outputs": [
    {
     "data": {
      "text/plain": [
       "<tf.Tensor: shape=(), dtype=float32, numpy=0.16732813>"
      ]
     },
     "execution_count": 28,
     "metadata": {},
     "output_type": "execute_result"
    }
   ],
   "source": [
    "import tensorflow_probability as tfp\n",
    "\n",
    "tfp.stats.expected_calibration_error(\n",
    "    num_bins=10, \n",
    "    logits=tf.reshape(tf.nn.sigmoid(preds), (-1, 1)), \n",
    "    labels_true=tf.cast(tf.reshape(trues, (-1)) > 0.5, 'int32'), \n",
    "    labels_predicted=tf.cast(tf.reshape(tf.nn.sigmoid(preds), (-1)) > 0.5, 'int32'),\n",
    ")"
   ]
  },
  {
   "cell_type": "code",
   "execution_count": 22,
   "metadata": {},
   "outputs": [
    {
     "data": {
      "text/plain": [
       "<tf.Tensor: shape=(), dtype=float32, numpy=0.16732815>"
      ]
     },
     "execution_count": 22,
     "metadata": {},
     "output_type": "execute_result"
    }
   ],
   "source": [
    "tfp.stats.expected_calibration_error(\n",
    "    num_bins=10, \n",
    "    logits=tf.reshape(new_preds, (-1, 1)), \n",
    "    labels_true=tf.cast(tf.reshape(trues, (-1)) > 0.5, 'int32'), \n",
    "    labels_predicted=tf.cast(tf.reshape(new_preds, (-1)) > 0.5, 'int32'),\n",
    ")"
   ]
  },
  {
   "cell_type": "code",
   "execution_count": 26,
   "metadata": {},
   "outputs": [
    {
     "data": {
      "image/png": "[encoded data removed]",
      "text/plain": [
       "<Figure size 432x288 with 1 Axes>"
      ]
     },
     "metadata": {
      "needs_background": "light"
     },
     "output_type": "display_data"
    }
   ],
   "source": [
    "plt.hist(tf.reshape(new_preds, (-1)), bins=100);"
   ]
  },
  {
   "cell_type": "code",
   "execution_count": 29,
   "metadata": {},
   "outputs": [
    {
     "data": {
      "image/png": "[encoded data removed]",
      "text/plain": [
       "<Figure size 432x288 with 1 Axes>"
      ]
     },
     "metadata": {
      "needs_background": "light"
     },
     "output_type": "display_data"
    }
   ],
   "source": [
    "plt.hist(tf.reshape(tf.nn.sigmoid(preds), (-1)), bins=100);"
   ]
  },
  {
   "cell_type": "code",
   "execution_count": null,
   "metadata": {},
   "outputs": [],
   "source": []
  }
 ],
 "metadata": {
  "kernelspec": {
   "display_name": "Python 3",
   "language": "python",
   "name": "python3"
  },
  "language_info": {
   "codemirror_mode": {
    "name": "ipython",
    "version": 3
   },
   "file_extension": ".py",
   "mimetype": "text/x-python",
   "name": "python",
   "nbconvert_exporter": "python",
   "pygments_lexer": "ipython3",
   "version": "3.8.10"
  }
 },
 "nbformat": 4,
 "nbformat_minor": 4
}
